{
 "cells": [
  {
   "cell_type": "code",
   "execution_count": 47,
   "id": "initial_id",
   "metadata": {
    "collapsed": true,
    "ExecuteTime": {
     "end_time": "2024-04-07T20:13:01.165614Z",
     "start_time": "2024-04-07T20:13:01.163367Z"
    }
   },
   "outputs": [],
   "source": [
    "\"\"\"\n",
    "@author: Anna Michalina Sawicka\n",
    "@date: April 2024\n",
    "\"\"\"\n",
    "\n",
    "import pandas as pd\n",
    "import numpy as np\n",
    "import matplotlib.pyplot as plt"
   ]
  },
  {
   "cell_type": "markdown",
   "source": [
    "Korzystając z biblioteki pandas, wczytaj plik heart disease dataset.csv do struktury DataFrame (jest to reprezentacja tabeli)"
   ],
   "metadata": {
    "collapsed": false
   },
   "id": "679759dd8683213a"
  },
  {
   "cell_type": "code",
   "outputs": [],
   "source": [
    "# Open heart_disease_dataset.csv using pandas library\n",
    "heart_disease = pd.read_csv(\"heart_disease_dataset.csv\")\n"
   ],
   "metadata": {
    "collapsed": false,
    "ExecuteTime": {
     "end_time": "2024-04-07T20:13:01.230203Z",
     "start_time": "2024-04-07T20:13:01.225554Z"
    }
   },
   "id": "cdb5cbfc71eb3537",
   "execution_count": 48
  },
  {
   "cell_type": "markdown",
   "source": [
    "## Zadanie 1. \n",
    "Oblicz podstawowe statystyki opisowe (średnia, mediana, odchylenie standardowe) dla kolumn'Age','Resting blood pressure','Serum cholesterol in mg/dl', 'Maximum heart rate achieved'."
   ],
   "metadata": {
    "collapsed": false
   },
   "id": "3bd07bac47084440"
  },
  {
   "cell_type": "code",
   "outputs": [],
   "source": [
    "# Create a subset DataFrame with Age, Resting blood pressure, Serum cholesterol in mg/dl, Maximum heart rate achieved columns\n",
    "\n",
    "heart_disease_subset = heart_disease[['Age','Resting blood pressure','Serum cholesterol in mg/dl','Maximum heart rate achieved']]"
   ],
   "metadata": {
    "collapsed": false,
    "ExecuteTime": {
     "end_time": "2024-04-07T20:13:01.233633Z",
     "start_time": "2024-04-07T20:13:01.231211Z"
    }
   },
   "id": "c0ac3ce8e9984475",
   "execution_count": 49
  },
  {
   "cell_type": "code",
   "outputs": [
    {
     "data": {
      "text/plain": "                              mean    50%   std\nAge                           54.4   56.0   9.1\nResting blood pressure       131.6  130.0  17.5\nSerum cholesterol in mg/dl   246.0  240.0  51.6\nMaximum heart rate achieved  149.1  152.0  23.0",
      "text/html": "<div>\n<style scoped>\n    .dataframe tbody tr th:only-of-type {\n        vertical-align: middle;\n    }\n\n    .dataframe tbody tr th {\n        vertical-align: top;\n    }\n\n    .dataframe thead th {\n        text-align: right;\n    }\n</style>\n<table border=\"1\" class=\"dataframe\">\n  <thead>\n    <tr style=\"text-align: right;\">\n      <th></th>\n      <th>mean</th>\n      <th>50%</th>\n      <th>std</th>\n    </tr>\n  </thead>\n  <tbody>\n    <tr>\n      <th>Age</th>\n      <td>54.4</td>\n      <td>56.0</td>\n      <td>9.1</td>\n    </tr>\n    <tr>\n      <th>Resting blood pressure</th>\n      <td>131.6</td>\n      <td>130.0</td>\n      <td>17.5</td>\n    </tr>\n    <tr>\n      <th>Serum cholesterol in mg/dl</th>\n      <td>246.0</td>\n      <td>240.0</td>\n      <td>51.6</td>\n    </tr>\n    <tr>\n      <th>Maximum heart rate achieved</th>\n      <td>149.1</td>\n      <td>152.0</td>\n      <td>23.0</td>\n    </tr>\n  </tbody>\n</table>\n</div>"
     },
     "execution_count": 50,
     "metadata": {},
     "output_type": "execute_result"
    }
   ],
   "source": [
    "# Calculate basic statistics using describe() function and \n",
    "# Pick mean, median (50th percentile) and standard deviation using loc property\n",
    "\n",
    "# Transpose basic_stats DataFrame for better readability using T function\n",
    "basic_stats = heart_disease_subset.describe().loc[['mean', '50%', 'std']].T\n",
    "\n",
    "# Round all values to .1 for better data readability\n",
    "round(basic_stats,1)\n"
   ],
   "metadata": {
    "collapsed": false,
    "ExecuteTime": {
     "end_time": "2024-04-07T20:13:01.242007Z",
     "start_time": "2024-04-07T20:13:01.234162Z"
    }
   },
   "id": "1b5629bb336617f8",
   "execution_count": 50
  },
  {
   "cell_type": "code",
   "outputs": [],
   "source": [
    "# Calculate basic statistic using custom function to use less memory than describe() function\n",
    "\n",
    "def calculate_basic_stats(x):\n",
    "    return pd.Series({\n",
    "        'Mean': x.mean(),\n",
    "        'Median': x.median(),\n",
    "        'Standard Deviation': x.std()\n",
    "    })"
   ],
   "metadata": {
    "collapsed": false,
    "ExecuteTime": {
     "end_time": "2024-04-07T20:13:01.244928Z",
     "start_time": "2024-04-07T20:13:01.243089Z"
    }
   },
   "id": "6006c4f6da1f4b89",
   "execution_count": 51
  },
  {
   "cell_type": "code",
   "outputs": [
    {
     "data": {
      "text/plain": "                              Mean  Median  Standard Deviation\nAge                           54.4    56.0                 9.1\nResting blood pressure       131.6   130.0                17.5\nSerum cholesterol in mg/dl   246.0   240.0                51.6\nMaximum heart rate achieved  149.1   152.0                23.0",
      "text/html": "<div>\n<style scoped>\n    .dataframe tbody tr th:only-of-type {\n        vertical-align: middle;\n    }\n\n    .dataframe tbody tr th {\n        vertical-align: top;\n    }\n\n    .dataframe thead th {\n        text-align: right;\n    }\n</style>\n<table border=\"1\" class=\"dataframe\">\n  <thead>\n    <tr style=\"text-align: right;\">\n      <th></th>\n      <th>Mean</th>\n      <th>Median</th>\n      <th>Standard Deviation</th>\n    </tr>\n  </thead>\n  <tbody>\n    <tr>\n      <th>Age</th>\n      <td>54.4</td>\n      <td>56.0</td>\n      <td>9.1</td>\n    </tr>\n    <tr>\n      <th>Resting blood pressure</th>\n      <td>131.6</td>\n      <td>130.0</td>\n      <td>17.5</td>\n    </tr>\n    <tr>\n      <th>Serum cholesterol in mg/dl</th>\n      <td>246.0</td>\n      <td>240.0</td>\n      <td>51.6</td>\n    </tr>\n    <tr>\n      <th>Maximum heart rate achieved</th>\n      <td>149.1</td>\n      <td>152.0</td>\n      <td>23.0</td>\n    </tr>\n  </tbody>\n</table>\n</div>"
     },
     "execution_count": 52,
     "metadata": {},
     "output_type": "execute_result"
    }
   ],
   "source": [
    "heart_disease_subset2 = heart_disease[['Age','Resting blood pressure','Serum cholesterol in mg/dl','Maximum heart rate achieved']]\n",
    "\n",
    "# Round the numbers for better readability\n",
    "round(heart_disease_subset.agg(calculate_basic_stats),1).T"
   ],
   "metadata": {
    "collapsed": false,
    "ExecuteTime": {
     "end_time": "2024-04-07T20:13:01.250467Z",
     "start_time": "2024-04-07T20:13:01.245441Z"
    }
   },
   "id": "a52ea205f91c634e",
   "execution_count": 52
  },
  {
   "cell_type": "markdown",
   "source": [
    "## Zadanie 2. \n",
    "Jaki jest rozkład płci w zestawie danych? Przedstaw go na wykresie kołowym."
   ],
   "metadata": {
    "collapsed": false
   },
   "id": "1119560311e0c7af"
  },
  {
   "cell_type": "code",
   "outputs": [
    {
     "data": {
      "text/plain": "Sex\nmale      713\nfemale    312\nName: count, dtype: int64"
     },
     "execution_count": 53,
     "metadata": {},
     "output_type": "execute_result"
    }
   ],
   "source": [
    "gender_distribution = heart_disease['Sex'].value_counts()\n",
    "gender_distribution"
   ],
   "metadata": {
    "collapsed": false,
    "ExecuteTime": {
     "end_time": "2024-04-07T20:13:01.254142Z",
     "start_time": "2024-04-07T20:13:01.251387Z"
    }
   },
   "id": "f87669275890333d",
   "execution_count": 53
  },
  {
   "cell_type": "code",
   "outputs": [
    {
     "name": "stdout",
     "output_type": "stream",
     "text": [
      "In the analysed dataset, the gender distribution is 713 male and 312 female patients.\n"
     ]
    }
   ],
   "source": [
    "number_male_patients = gender_distribution.loc['male']\n",
    "number_female_patients = gender_distribution.loc['female']\n",
    "\n",
    "print(\"In the analysed dataset, the gender distribution is \" + str(number_male_patients) + \" male and \" + str(number_female_patients) + \" female patients.\")"
   ],
   "metadata": {
    "collapsed": false,
    "ExecuteTime": {
     "end_time": "2024-04-07T20:13:01.257698Z",
     "start_time": "2024-04-07T20:13:01.255867Z"
    }
   },
   "id": "7848d1a623fd2dc2",
   "execution_count": 54
  },
  {
   "cell_type": "code",
   "outputs": [
    {
     "data": {
      "text/plain": "<Axes: ylabel='count'>"
     },
     "execution_count": 55,
     "metadata": {},
     "output_type": "execute_result"
    },
    {
     "data": {
      "text/plain": "<Figure size 640x480 with 1 Axes>",
      "image/png": "[encoded data removed]"
     },
     "metadata": {},
     "output_type": "display_data"
    }
   ],
   "source": [
    "gender_distribution.plot(kind=\"pie\")"
   ],
   "metadata": {
    "collapsed": false,
    "ExecuteTime": {
     "end_time": "2024-04-07T20:13:01.313690Z",
     "start_time": "2024-04-07T20:13:01.274014Z"
    }
   },
   "id": "7e0c43d11896fda3",
   "execution_count": 55
  },
  {
   "cell_type": "markdown",
   "source": [
    "## Zadanie 3. \n",
    "Czy (w analizowanej próbie) na choroby serca choruje więcej kobiet, czy mężczyzn?\n",
    "O ile procent więcej?"
   ],
   "metadata": {
    "collapsed": false
   },
   "id": "631c70d2923bfffc"
  },
  {
   "cell_type": "code",
   "outputs": [
    {
     "data": {
      "text/plain": "<bound method NDFrame.head of          Sex  Disease\n0       male    False\n1       male    False\n2       male    False\n3       male    False\n4     female    False\n...      ...      ...\n1020    male     True\n1021    male    False\n1022    male    False\n1023  female     True\n1024    male    False\n\n[1025 rows x 2 columns]>"
     },
     "execution_count": 56,
     "metadata": {},
     "output_type": "execute_result"
    }
   ],
   "source": [
    "heart_disease_subset3 = heart_disease[['Sex','Disease']]\n",
    "heart_disease_subset3.head"
   ],
   "metadata": {
    "collapsed": false,
    "ExecuteTime": {
     "end_time": "2024-04-07T20:13:01.321513Z",
     "start_time": "2024-04-07T20:13:01.315737Z"
    }
   },
   "id": "f9c9e0b69b2535c7",
   "execution_count": 56
  },
  {
   "cell_type": "code",
   "outputs": [
    {
     "data": {
      "text/plain": "Sex     Disease\nfemale  True       226\n        False       86\nmale    False      413\n        True       300\nName: count, dtype: int64"
     },
     "execution_count": 57,
     "metadata": {},
     "output_type": "execute_result"
    }
   ],
   "source": [
    "# Group the dataset by gender and calculates the value counts\n",
    "counts_by_gender = heart_disease_subset3.groupby('Sex').value_counts()\n",
    "counts_by_gender"
   ],
   "metadata": {
    "collapsed": false,
    "ExecuteTime": {
     "end_time": "2024-04-07T20:13:01.344641Z",
     "start_time": "2024-04-07T20:13:01.336962Z"
    }
   },
   "id": "caaababce013f77f",
   "execution_count": 57
  },
  {
   "cell_type": "code",
   "outputs": [],
   "source": [
    "# Calculate the number of patients who suffer more frequently from heart disease\n",
    "counts_by_gender = heart_disease_subset3[heart_disease_subset3['Disease']].groupby('Sex').size()\n",
    "\n",
    "# Check which gender suffers more frequently by returning index of the maximum element\n",
    "more_frequently_suffering_gender = counts_by_gender.idxmax()\n",
    "\n",
    "# Check number of patients in more frequently suffering group\n",
    "number_patients_more_suffering = counts_by_gender.max()\n",
    "\n",
    "# Check number of patients in less frequently suffering group\n",
    "number_patients_less_suffering = counts_by_gender.min()\n",
    "\n",
    "# Calculate a percentage difference between patients by gender\n",
    "number_patients_with_heart_disease = counts_by_gender.sum()\n",
    "difference_by_gender = ((number_patients_more_suffering - number_patients_less_suffering) / number_patients_with_heart_disease) * 100"
   ],
   "metadata": {
    "collapsed": false,
    "ExecuteTime": {
     "end_time": "2024-04-07T20:13:01.380687Z",
     "start_time": "2024-04-07T20:13:01.375074Z"
    }
   },
   "id": "594af9a3bd67c4f4",
   "execution_count": 58
  },
  {
   "cell_type": "markdown",
   "source": [
    "### Conclusions"
   ],
   "metadata": {
    "collapsed": false
   },
   "id": "db1a8eb22ce37648"
  },
  {
   "cell_type": "code",
   "outputs": [
    {
     "name": "stdout",
     "output_type": "stream",
     "text": [
      "There is 14.07% more male patients suffering from the heart disease in the analysed dataset.\n"
     ]
    }
   ],
   "source": [
    "\n",
    "print(\"There is {:.2f}% more \".format(difference_by_gender) + more_frequently_suffering_gender + \" patients suffering from the heart disease in the analysed dataset.\")\n"
   ],
   "metadata": {
    "collapsed": false,
    "ExecuteTime": {
     "end_time": "2024-04-07T20:13:01.432224Z",
     "start_time": "2024-04-07T20:13:01.425199Z"
    }
   },
   "id": "1a09ed77bb0f1725",
   "execution_count": 59
  },
  {
   "cell_type": "markdown",
   "source": [
    "## Zadanie 4\n",
    "Porównaj średnią wartość cholesterolu we krwi osobno dla grupy kobiet i grupy\n",
    "mężczyzn w zależności od obecności choroby serca."
   ],
   "metadata": {
    "collapsed": false
   },
   "id": "37444fe6b805b5fd"
  },
  {
   "cell_type": "code",
   "outputs": [
    {
     "data": {
      "text/plain": "      Sex  Serum cholesterol in mg/dl  Disease\n0    male                         212    False\n1    male                         203    False\n2    male                         174    False\n3    male                         203    False\n4  female                         294    False",
      "text/html": "<div>\n<style scoped>\n    .dataframe tbody tr th:only-of-type {\n        vertical-align: middle;\n    }\n\n    .dataframe tbody tr th {\n        vertical-align: top;\n    }\n\n    .dataframe thead th {\n        text-align: right;\n    }\n</style>\n<table border=\"1\" class=\"dataframe\">\n  <thead>\n    <tr style=\"text-align: right;\">\n      <th></th>\n      <th>Sex</th>\n      <th>Serum cholesterol in mg/dl</th>\n      <th>Disease</th>\n    </tr>\n  </thead>\n  <tbody>\n    <tr>\n      <th>0</th>\n      <td>male</td>\n      <td>212</td>\n      <td>False</td>\n    </tr>\n    <tr>\n      <th>1</th>\n      <td>male</td>\n      <td>203</td>\n      <td>False</td>\n    </tr>\n    <tr>\n      <th>2</th>\n      <td>male</td>\n      <td>174</td>\n      <td>False</td>\n    </tr>\n    <tr>\n      <th>3</th>\n      <td>male</td>\n      <td>203</td>\n      <td>False</td>\n    </tr>\n    <tr>\n      <th>4</th>\n      <td>female</td>\n      <td>294</td>\n      <td>False</td>\n    </tr>\n  </tbody>\n</table>\n</div>"
     },
     "execution_count": 60,
     "metadata": {},
     "output_type": "execute_result"
    }
   ],
   "source": [
    "heart_disease_subset4 = heart_disease[['Sex','Serum cholesterol in mg/dl','Disease']]\n",
    "heart_disease_subset4.head(5)"
   ],
   "metadata": {
    "collapsed": false,
    "ExecuteTime": {
     "end_time": "2024-04-07T20:13:01.449181Z",
     "start_time": "2024-04-07T20:13:01.443146Z"
    }
   },
   "id": "f55f65754cd4b6ae",
   "execution_count": 60
  },
  {
   "cell_type": "code",
   "outputs": [],
   "source": [
    "cholesterol_by_gender_and_disease = heart_disease_subset4.groupby(['Sex','Disease']).mean()"
   ],
   "metadata": {
    "collapsed": false,
    "ExecuteTime": {
     "end_time": "2024-04-07T20:13:01.456616Z",
     "start_time": "2024-04-07T20:13:01.450677Z"
    }
   },
   "id": "e6775b8ef26d3101",
   "execution_count": 61
  },
  {
   "cell_type": "code",
   "outputs": [
    {
     "data": {
      "text/plain": "                Serum cholesterol in mg/dl\nSex    Disease                            \nfemale False                    276.732558\n       True                     255.641593\nmale   False                    245.995157\n       True                     229.933333",
      "text/html": "<div>\n<style scoped>\n    .dataframe tbody tr th:only-of-type {\n        vertical-align: middle;\n    }\n\n    .dataframe tbody tr th {\n        vertical-align: top;\n    }\n\n    .dataframe thead th {\n        text-align: right;\n    }\n</style>\n<table border=\"1\" class=\"dataframe\">\n  <thead>\n    <tr style=\"text-align: right;\">\n      <th></th>\n      <th></th>\n      <th>Serum cholesterol in mg/dl</th>\n    </tr>\n    <tr>\n      <th>Sex</th>\n      <th>Disease</th>\n      <th></th>\n    </tr>\n  </thead>\n  <tbody>\n    <tr>\n      <th rowspan=\"2\" valign=\"top\">female</th>\n      <th>False</th>\n      <td>276.732558</td>\n    </tr>\n    <tr>\n      <th>True</th>\n      <td>255.641593</td>\n    </tr>\n    <tr>\n      <th rowspan=\"2\" valign=\"top\">male</th>\n      <th>False</th>\n      <td>245.995157</td>\n    </tr>\n    <tr>\n      <th>True</th>\n      <td>229.933333</td>\n    </tr>\n  </tbody>\n</table>\n</div>"
     },
     "execution_count": 62,
     "metadata": {},
     "output_type": "execute_result"
    }
   ],
   "source": [
    "cholesterol_by_gender_and_disease"
   ],
   "metadata": {
    "collapsed": false,
    "ExecuteTime": {
     "end_time": "2024-04-07T20:13:01.470863Z",
     "start_time": "2024-04-07T20:13:01.462326Z"
    }
   },
   "id": "8c62c06c956c88d1",
   "execution_count": 62
  },
  {
   "cell_type": "code",
   "outputs": [
    {
     "data": {
      "text/plain": "<Axes: xlabel='Sex,Disease'>"
     },
     "execution_count": 63,
     "metadata": {},
     "output_type": "execute_result"
    },
    {
     "data": {
      "text/plain": "<Figure size 640x480 with 1 Axes>",
      "image/png": "[encoded data removed]"
     },
     "metadata": {},
     "output_type": "display_data"
    }
   ],
   "source": [
    "cholesterol_by_gender_and_disease.plot(kind=\"bar\")"
   ],
   "metadata": {
    "collapsed": false,
    "ExecuteTime": {
     "end_time": "2024-04-07T20:13:01.549027Z",
     "start_time": "2024-04-07T20:13:01.472528Z"
    }
   },
   "id": "7805e5bfa1b18c3",
   "execution_count": 63
  },
  {
   "cell_type": "markdown",
   "source": [
    "### Conlusion\n",
    "The cholesterol level in serum is higher in patients without heart disease. It concerns both male and female patients.\n",
    "Moreover, the cholesterol level in serum in female patients is higher than in male patients."
   ],
   "metadata": {
    "collapsed": false
   },
   "id": "bdb4cd0a877e4f9d"
  },
  {
   "cell_type": "markdown",
   "source": [
    "## Zadanie 5\n",
    "Narysuj wykres pudełkowy maksymalnej osiągniętej wartości tętna podczas testu\n",
    "wysiłkowego w zależności od obecności choroby serca. Co można zauważyć na pod-\n",
    "stawie tego wykresu?"
   ],
   "metadata": {
    "collapsed": false
   },
   "id": "f7fcc26e35de6626"
  },
  {
   "cell_type": "code",
   "outputs": [
    {
     "data": {
      "text/plain": "   Maximum heart rate achieved  Disease\n0                          168    False\n1                          155    False\n2                          125    False\n3                          161    False\n4                          106    False",
      "text/html": "<div>\n<style scoped>\n    .dataframe tbody tr th:only-of-type {\n        vertical-align: middle;\n    }\n\n    .dataframe tbody tr th {\n        vertical-align: top;\n    }\n\n    .dataframe thead th {\n        text-align: right;\n    }\n</style>\n<table border=\"1\" class=\"dataframe\">\n  <thead>\n    <tr style=\"text-align: right;\">\n      <th></th>\n      <th>Maximum heart rate achieved</th>\n      <th>Disease</th>\n    </tr>\n  </thead>\n  <tbody>\n    <tr>\n      <th>0</th>\n      <td>168</td>\n      <td>False</td>\n    </tr>\n    <tr>\n      <th>1</th>\n      <td>155</td>\n      <td>False</td>\n    </tr>\n    <tr>\n      <th>2</th>\n      <td>125</td>\n      <td>False</td>\n    </tr>\n    <tr>\n      <th>3</th>\n      <td>161</td>\n      <td>False</td>\n    </tr>\n    <tr>\n      <th>4</th>\n      <td>106</td>\n      <td>False</td>\n    </tr>\n  </tbody>\n</table>\n</div>"
     },
     "execution_count": 64,
     "metadata": {},
     "output_type": "execute_result"
    }
   ],
   "source": [
    "heart_disease_subset5 = heart_disease[['Maximum heart rate achieved','Disease']]\n",
    "heart_disease_subset5.head(5)"
   ],
   "metadata": {
    "collapsed": false,
    "ExecuteTime": {
     "end_time": "2024-04-07T20:13:01.556551Z",
     "start_time": "2024-04-07T20:13:01.550458Z"
    }
   },
   "id": "fb3da3e2aa055f18",
   "execution_count": 64
  },
  {
   "cell_type": "code",
   "outputs": [
    {
     "data": {
      "text/plain": "<Figure size 640x480 with 1 Axes>",
      "image/png": "[encoded data removed]"
     },
     "metadata": {},
     "output_type": "display_data"
    }
   ],
   "source": [
    "fig, ax = plt.subplots()\n",
    "\n",
    "v = plt.boxplot([\n",
    "    heart_disease_subset5.query(\"Disease == True\")[\"Maximum heart rate achieved\"],\n",
    "    heart_disease_subset5.query(\"Disease == False\")[\"Maximum heart rate achieved\"],\n",
    "],\n",
    "    showmeans=True, showfliers=False,\n",
    "    medianprops={\"color\": \"orange\", \"linewidth\": 1},\n",
    "    whiskerprops={\"color\": \"cyan\", \"linewidth\": 1},\n",
    "    capprops={\"color\": \"lightblue\", \"linewidth\": 1}\n",
    "    \n",
    ")\n",
    "\n",
    "ax.set_xticklabels(['Heart Disease Present', 'Heart Disease Not Present'])\n",
    "ax.yaxis.set_major_formatter(plt.FormatStrFormatter('%d bpm'))\n",
    "\n",
    "plt.show()"
   ],
   "metadata": {
    "collapsed": false,
    "ExecuteTime": {
     "end_time": "2024-04-07T20:13:01.614823Z",
     "start_time": "2024-04-07T20:13:01.558791Z"
    }
   },
   "id": "1324971a94f614cd",
   "execution_count": 65
  },
  {
   "cell_type": "markdown",
   "source": [
    "### Conlusion\n",
    "Maximum heart rate achieved is higher in patients with the heart disease present comparing to those without the heart disease."
   ],
   "metadata": {
    "collapsed": false
   },
   "id": "e3e8aa66f5b48cc3"
  },
  {
   "cell_type": "markdown",
   "source": [
    "## Zadanie 6\n",
    "Narysuj wykres słupkowy częstości występowania choroby serca w zależności od\n",
    "informacji, czy u pacjenta występuje ból dławicowy podczas testu wysiłkowego. Co można zauważyć na podstawie wykresu?"
   ],
   "metadata": {
    "collapsed": false
   },
   "id": "a776c023ac9c1c98"
  },
  {
   "cell_type": "code",
   "outputs": [
    {
     "data": {
      "text/plain": "      Exercise induced angina  Disease\n0                       False    False\n1                        True    False\n2                        True    False\n3                       False    False\n4                       False    False\n...                       ...      ...\n1020                     True     True\n1021                     True    False\n1022                     True    False\n1023                    False     True\n1024                    False    False\n\n[1025 rows x 2 columns]",
      "text/html": "<div>\n<style scoped>\n    .dataframe tbody tr th:only-of-type {\n        vertical-align: middle;\n    }\n\n    .dataframe tbody tr th {\n        vertical-align: top;\n    }\n\n    .dataframe thead th {\n        text-align: right;\n    }\n</style>\n<table border=\"1\" class=\"dataframe\">\n  <thead>\n    <tr style=\"text-align: right;\">\n      <th></th>\n      <th>Exercise induced angina</th>\n      <th>Disease</th>\n    </tr>\n  </thead>\n  <tbody>\n    <tr>\n      <th>0</th>\n      <td>False</td>\n      <td>False</td>\n    </tr>\n    <tr>\n      <th>1</th>\n      <td>True</td>\n      <td>False</td>\n    </tr>\n    <tr>\n      <th>2</th>\n      <td>True</td>\n      <td>False</td>\n    </tr>\n    <tr>\n      <th>3</th>\n      <td>False</td>\n      <td>False</td>\n    </tr>\n    <tr>\n      <th>4</th>\n      <td>False</td>\n      <td>False</td>\n    </tr>\n    <tr>\n      <th>...</th>\n      <td>...</td>\n      <td>...</td>\n    </tr>\n    <tr>\n      <th>1020</th>\n      <td>True</td>\n      <td>True</td>\n    </tr>\n    <tr>\n      <th>1021</th>\n      <td>True</td>\n      <td>False</td>\n    </tr>\n    <tr>\n      <th>1022</th>\n      <td>True</td>\n      <td>False</td>\n    </tr>\n    <tr>\n      <th>1023</th>\n      <td>False</td>\n      <td>True</td>\n    </tr>\n    <tr>\n      <th>1024</th>\n      <td>False</td>\n      <td>False</td>\n    </tr>\n  </tbody>\n</table>\n<p>1025 rows × 2 columns</p>\n</div>"
     },
     "execution_count": 66,
     "metadata": {},
     "output_type": "execute_result"
    }
   ],
   "source": [
    "heart_disease_subset6 = heart_disease[[\"Exercise induced angina\", \"Disease\"]]\n",
    "heart_disease_subset6"
   ],
   "metadata": {
    "collapsed": false,
    "ExecuteTime": {
     "end_time": "2024-04-07T20:13:01.621530Z",
     "start_time": "2024-04-07T20:13:01.615557Z"
    }
   },
   "id": "8829a19f801102ec",
   "execution_count": 66
  },
  {
   "cell_type": "code",
   "outputs": [
    {
     "data": {
      "text/plain": "      Exercise induced angina  Disease\n1                        True    False\n2                        True    False\n7                        True    False\n9                        True    False\n11                       True    False\n...                       ...      ...\n1015                     True    False\n1017                     True    False\n1020                     True     True\n1021                     True    False\n1022                     True    False\n\n[345 rows x 2 columns]",
      "text/html": "<div>\n<style scoped>\n    .dataframe tbody tr th:only-of-type {\n        vertical-align: middle;\n    }\n\n    .dataframe tbody tr th {\n        vertical-align: top;\n    }\n\n    .dataframe thead th {\n        text-align: right;\n    }\n</style>\n<table border=\"1\" class=\"dataframe\">\n  <thead>\n    <tr style=\"text-align: right;\">\n      <th></th>\n      <th>Exercise induced angina</th>\n      <th>Disease</th>\n    </tr>\n  </thead>\n  <tbody>\n    <tr>\n      <th>1</th>\n      <td>True</td>\n      <td>False</td>\n    </tr>\n    <tr>\n      <th>2</th>\n      <td>True</td>\n      <td>False</td>\n    </tr>\n    <tr>\n      <th>7</th>\n      <td>True</td>\n      <td>False</td>\n    </tr>\n    <tr>\n      <th>9</th>\n      <td>True</td>\n      <td>False</td>\n    </tr>\n    <tr>\n      <th>11</th>\n      <td>True</td>\n      <td>False</td>\n    </tr>\n    <tr>\n      <th>...</th>\n      <td>...</td>\n      <td>...</td>\n    </tr>\n    <tr>\n      <th>1015</th>\n      <td>True</td>\n      <td>False</td>\n    </tr>\n    <tr>\n      <th>1017</th>\n      <td>True</td>\n      <td>False</td>\n    </tr>\n    <tr>\n      <th>1020</th>\n      <td>True</td>\n      <td>True</td>\n    </tr>\n    <tr>\n      <th>1021</th>\n      <td>True</td>\n      <td>False</td>\n    </tr>\n    <tr>\n      <th>1022</th>\n      <td>True</td>\n      <td>False</td>\n    </tr>\n  </tbody>\n</table>\n<p>345 rows × 2 columns</p>\n</div>"
     },
     "execution_count": 67,
     "metadata": {},
     "output_type": "execute_result"
    }
   ],
   "source": [
    "exercise_angina = heart_disease_subset6.query(\"`Exercise induced angina` == True\")\n",
    "exercise_angina"
   ],
   "metadata": {
    "collapsed": false,
    "ExecuteTime": {
     "end_time": "2024-04-07T20:13:01.630074Z",
     "start_time": "2024-04-07T20:13:01.623406Z"
    }
   },
   "id": "8a617f613c6c8a57",
   "execution_count": 67
  },
  {
   "cell_type": "code",
   "outputs": [
    {
     "data": {
      "text/plain": "Exercise induced angina  Disease\nTrue                     False      274\n                         True        71\nName: count, dtype: int64"
     },
     "execution_count": 68,
     "metadata": {},
     "output_type": "execute_result"
    }
   ],
   "source": [
    "disease_counts = exercise_angina.value_counts()\n",
    "disease_counts"
   ],
   "metadata": {
    "collapsed": false,
    "ExecuteTime": {
     "end_time": "2024-04-07T20:13:01.635800Z",
     "start_time": "2024-04-07T20:13:01.631073Z"
    }
   },
   "id": "2d00ccbc7e3d254a",
   "execution_count": 68
  },
  {
   "cell_type": "code",
   "outputs": [
    {
     "data": {
      "text/plain": "<Figure size 640x480 with 1 Axes>",
      "image/png": "[encoded data removed]"
     },
     "metadata": {},
     "output_type": "display_data"
    }
   ],
   "source": [
    "disease_counts_index = disease_counts.index.tolist()\n",
    "\n",
    "x = (np.transpose(disease_counts_index)[1]).astype(int)\n",
    "y = exercise_angina.value_counts().values\n",
    "\n",
    "fig, ax = plt.subplots()\n",
    "ax.bar(x, y)\n",
    "ax.set_xticks(x, list(map(lambda v: \"Disease Present\" if v == 1 else \"Disease Not Present\", x)))\n",
    "\n",
    "plt.show()"
   ],
   "metadata": {
    "collapsed": false,
    "ExecuteTime": {
     "end_time": "2024-04-07T20:13:01.686634Z",
     "start_time": "2024-04-07T20:13:01.639089Z"
    }
   },
   "id": "5a177b06bd62db09",
   "execution_count": 69
  },
  {
   "cell_type": "markdown",
   "source": [
    "## Wnioski\n",
    "\n",
    "### Wniosek 1\n",
    "W badanej grupie, poziom choresterolu w surowicy krwi u kobiet jest wyższy niż u mężczyzn, niezależnie od tego czy były chore czy nie.\n",
    "\n",
    "Tę konkluzję potwierdzają wyniki badań naukowych opublikowanych przez Prasad Tharu B, Tsokos CP. A Statistical Study of Serum Cholesterol Level by Gender and Race. J Res Health Sci. 2017 Jul 25;17(3):386. PMCID: PMC7189954. https://www.ncbi.nlm.nih.gov/pmc/articles/PMC7189954/\n",
    "\n",
    "Co zaskakujące, poziom choresterolu jest wyższy w osób zdrowych niż u osób chorych, niezależnie od płci.\n",
    "\n"
   ],
   "metadata": {
    "collapsed": false
   },
   "id": "2fff111b1e0d8cfc"
  },
  {
   "cell_type": "markdown",
   "source": [
    "### Wniosek 2\n"
   ],
   "metadata": {
    "collapsed": false
   },
   "id": "dd4c9083d6bf20dc"
  }
 ],
 "metadata": {
  "kernelspec": {
   "display_name": "Python 3",
   "language": "python",
   "name": "python3"
  },
  "language_info": {
   "codemirror_mode": {
    "name": "ipython",
    "version": 2
   },
   "file_extension": ".py",
   "mimetype": "text/x-python",
   "name": "python",
   "nbconvert_exporter": "python",
   "pygments_lexer": "ipython2",
   "version": "2.7.6"
  }
 },
 "nbformat": 4,
 "nbformat_minor": 5
}
