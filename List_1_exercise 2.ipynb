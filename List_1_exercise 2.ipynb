{
 "cells": [
  {
   "cell_type": "code",
   "execution_count": 1,
   "id": "initial_id",
   "metadata": {
    "collapsed": true,
    "ExecuteTime": {
     "end_time": "2024-04-06T19:34:19.498191Z",
     "start_time": "2024-04-06T19:34:19.017502Z"
    }
   },
   "outputs": [],
   "source": [
    "import pandas as pd\n",
    "import matplotlib.pyplot as plt"
   ]
  },
  {
   "cell_type": "markdown",
   "source": [
    "The ST segment shift relative to exercise-induced increments in heart rate, the ST/heart rate slope (ST/HR slope)\n",
    "Source: The ST segment/heart rate slope as a predictor of coronary artery disease: comparison with quantitative thallium imaging and conventional ST segment criteria https://pubmed.ncbi.nlm.nih.gov/3739881/"
   ],
   "metadata": {
    "collapsed": false
   },
   "id": "cee836aa38d87ae9"
  },
  {
   "cell_type": "markdown",
   "source": [
    "Korzystając z biblioteki pandas, wczytaj plik heart disease dataset.csv do struktury DataFrame (jest to reprezentacja tabeli)"
   ],
   "metadata": {
    "collapsed": false
   },
   "id": "679759dd8683213a"
  },
  {
   "cell_type": "code",
   "outputs": [],
   "source": [
    "# Opening heart_disease_dataset.csv using pandas library\n",
    "heart_disease = pd.read_csv(\"heart_disease_dataset.csv\")\n"
   ],
   "metadata": {
    "collapsed": false,
    "ExecuteTime": {
     "end_time": "2024-04-06T19:34:19.503642Z",
     "start_time": "2024-04-06T19:34:19.499262Z"
    }
   },
   "id": "cdb5cbfc71eb3537",
   "execution_count": 2
  },
  {
   "cell_type": "markdown",
   "source": [
    "### Zadanie 1. \n",
    "Oblicz podstawowe statystyki opisowe (średnia, mediana, odchylenie standardowe) dla kolumn'Age','Resting blood pressure','Serum cholesterol in mg/dl', 'Maximum heart rate achieved'."
   ],
   "metadata": {
    "collapsed": false
   },
   "id": "3bd07bac47084440"
  },
  {
   "cell_type": "code",
   "outputs": [],
   "source": [
    "# Creating a subset DataFrame with Age, Resting blood pressure, Serum cholesterol in mg/dl, Maximum heart rate achieved columns\n",
    "\n",
    "heart_disease_subset = heart_disease[['Age','Resting blood pressure','Serum cholesterol in mg/dl','Maximum heart rate achieved']]"
   ],
   "metadata": {
    "collapsed": false,
    "ExecuteTime": {
     "end_time": "2024-04-06T19:34:19.507410Z",
     "start_time": "2024-04-06T19:34:19.504249Z"
    }
   },
   "id": "c0ac3ce8e9984475",
   "execution_count": 3
  },
  {
   "cell_type": "code",
   "outputs": [
    {
     "data": {
      "text/plain": "                              mean    50%   std\nAge                           54.4   56.0   9.1\nResting blood pressure       131.6  130.0  17.5\nSerum cholesterol in mg/dl   246.0  240.0  51.6\nMaximum heart rate achieved  149.1  152.0  23.0",
      "text/html": "<div>\n<style scoped>\n    .dataframe tbody tr th:only-of-type {\n        vertical-align: middle;\n    }\n\n    .dataframe tbody tr th {\n        vertical-align: top;\n    }\n\n    .dataframe thead th {\n        text-align: right;\n    }\n</style>\n<table border=\"1\" class=\"dataframe\">\n  <thead>\n    <tr style=\"text-align: right;\">\n      <th></th>\n      <th>mean</th>\n      <th>50%</th>\n      <th>std</th>\n    </tr>\n  </thead>\n  <tbody>\n    <tr>\n      <th>Age</th>\n      <td>54.4</td>\n      <td>56.0</td>\n      <td>9.1</td>\n    </tr>\n    <tr>\n      <th>Resting blood pressure</th>\n      <td>131.6</td>\n      <td>130.0</td>\n      <td>17.5</td>\n    </tr>\n    <tr>\n      <th>Serum cholesterol in mg/dl</th>\n      <td>246.0</td>\n      <td>240.0</td>\n      <td>51.6</td>\n    </tr>\n    <tr>\n      <th>Maximum heart rate achieved</th>\n      <td>149.1</td>\n      <td>152.0</td>\n      <td>23.0</td>\n    </tr>\n  </tbody>\n</table>\n</div>"
     },
     "execution_count": 4,
     "metadata": {},
     "output_type": "execute_result"
    }
   ],
   "source": [
    "# Calculating basic statistics using describe() function and picking mean, median (50th percentile) and standard deviation using loc property\n",
    "\n",
    "# Transposing basic_stats DataFrame for better readability using T function\n",
    "basic_stats = heart_disease_subset.describe().loc[['mean', '50%', 'std']].T\n",
    "\n",
    "# Rounding all values to .1 for better data readability\n",
    "round(basic_stats,1)\n"
   ],
   "metadata": {
    "collapsed": false,
    "ExecuteTime": {
     "end_time": "2024-04-06T19:34:19.519913Z",
     "start_time": "2024-04-06T19:34:19.509241Z"
    }
   },
   "id": "1b5629bb336617f8",
   "execution_count": 4
  },
  {
   "cell_type": "code",
   "outputs": [],
   "source": [
    "# Custom function to calculate basic stats\n",
    "# It consumes less memory than describe() as it calculates less\n",
    "\n",
    "def calculate_basic_stats(x):\n",
    "    return pd.Series({\n",
    "        'Mean': x.mean(),\n",
    "        'Median': x.median(),\n",
    "        'Standard Deviation': x.std()\n",
    "    })"
   ],
   "metadata": {
    "collapsed": false,
    "ExecuteTime": {
     "end_time": "2024-04-06T19:34:19.522581Z",
     "start_time": "2024-04-06T19:34:19.520694Z"
    }
   },
   "id": "6006c4f6da1f4b89",
   "execution_count": 5
  },
  {
   "cell_type": "code",
   "outputs": [
    {
     "data": {
      "text/plain": "                              Mean  Median  Standard Deviation\nAge                           54.4    56.0                 9.1\nResting blood pressure       131.6   130.0                17.5\nSerum cholesterol in mg/dl   246.0   240.0                51.6\nMaximum heart rate achieved  149.1   152.0                23.0",
      "text/html": "<div>\n<style scoped>\n    .dataframe tbody tr th:only-of-type {\n        vertical-align: middle;\n    }\n\n    .dataframe tbody tr th {\n        vertical-align: top;\n    }\n\n    .dataframe thead th {\n        text-align: right;\n    }\n</style>\n<table border=\"1\" class=\"dataframe\">\n  <thead>\n    <tr style=\"text-align: right;\">\n      <th></th>\n      <th>Mean</th>\n      <th>Median</th>\n      <th>Standard Deviation</th>\n    </tr>\n  </thead>\n  <tbody>\n    <tr>\n      <th>Age</th>\n      <td>54.4</td>\n      <td>56.0</td>\n      <td>9.1</td>\n    </tr>\n    <tr>\n      <th>Resting blood pressure</th>\n      <td>131.6</td>\n      <td>130.0</td>\n      <td>17.5</td>\n    </tr>\n    <tr>\n      <th>Serum cholesterol in mg/dl</th>\n      <td>246.0</td>\n      <td>240.0</td>\n      <td>51.6</td>\n    </tr>\n    <tr>\n      <th>Maximum heart rate achieved</th>\n      <td>149.1</td>\n      <td>152.0</td>\n      <td>23.0</td>\n    </tr>\n  </tbody>\n</table>\n</div>"
     },
     "execution_count": 6,
     "metadata": {},
     "output_type": "execute_result"
    }
   ],
   "source": [
    "heart_disease_subset2 = heart_disease[['Age','Resting blood pressure','Serum cholesterol in mg/dl','Maximum heart rate achieved']]\n",
    "\n",
    "round(heart_disease_subset.agg(calculate_basic_stats),1).T"
   ],
   "metadata": {
    "collapsed": false,
    "ExecuteTime": {
     "end_time": "2024-04-06T19:34:19.529507Z",
     "start_time": "2024-04-06T19:34:19.523208Z"
    }
   },
   "id": "a52ea205f91c634e",
   "execution_count": 6
  },
  {
   "cell_type": "markdown",
   "source": [
    "#### Zadanie 2. \n",
    "Jaki jest rozkład płci w zestawie danych? Przedstaw go na wykresie kołowym."
   ],
   "metadata": {
    "collapsed": false
   },
   "id": "1119560311e0c7af"
  },
  {
   "cell_type": "code",
   "outputs": [
    {
     "data": {
      "text/plain": "Sex\nmale      713\nfemale    312\nName: count, dtype: int64"
     },
     "execution_count": 7,
     "metadata": {},
     "output_type": "execute_result"
    }
   ],
   "source": [
    "gender_distribution = heart_disease['Sex'].value_counts()\n",
    "gender_distribution"
   ],
   "metadata": {
    "collapsed": false,
    "ExecuteTime": {
     "end_time": "2024-04-06T19:34:19.534323Z",
     "start_time": "2024-04-06T19:34:19.530473Z"
    }
   },
   "id": "f87669275890333d",
   "execution_count": 7
  },
  {
   "cell_type": "code",
   "outputs": [],
   "source": [
    "number_male_patients = gender_distribution.loc['male']\n",
    "number_female_patients = gender_distribution.loc['female']\n",
    "\n",
    "# to add printing the result"
   ],
   "metadata": {
    "collapsed": false,
    "ExecuteTime": {
     "end_time": "2024-04-06T19:35:49.598965Z",
     "start_time": "2024-04-06T19:35:49.595481Z"
    }
   },
   "id": "7848d1a623fd2dc2",
   "execution_count": 9
  },
  {
   "cell_type": "code",
   "outputs": [],
   "source": [
    "gender_distribution.plot(kind=\"pie\")"
   ],
   "metadata": {
    "collapsed": false,
    "ExecuteTime": {
     "end_time": "2024-04-06T19:34:19.713507Z",
     "start_time": "2024-04-06T19:34:19.713442Z"
    }
   },
   "id": "7e0c43d11896fda3",
   "execution_count": null
  },
  {
   "cell_type": "markdown",
   "source": [
    "#### Zadanie 3. \n",
    "Czy (w analizowanej próbie) na choroby serca choruje więcej kobiet, czy mężczyzn?\n",
    "O ile procent więcej?"
   ],
   "metadata": {
    "collapsed": false
   },
   "id": "631c70d2923bfffc"
  },
  {
   "cell_type": "code",
   "outputs": [],
   "source": [
    "heart_disease_subset3 = heart_disease[['Sex','Disease']]\n",
    "heart_disease_subset3.head(5)"
   ],
   "metadata": {
    "collapsed": false
   },
   "id": "f9c9e0b69b2535c7",
   "execution_count": null
  },
  {
   "cell_type": "code",
   "outputs": [],
   "source": [
    "# Grouping the dataset by gender and calculating the value counts\n",
    "counts_by_gender = heart_disease_subset3.groupby('Sex').value_counts()\n",
    "counts_by_gender"
   ],
   "metadata": {
    "collapsed": false
   },
   "id": "caaababce013f77f",
   "execution_count": null
  },
  {
   "cell_type": "code",
   "outputs": [],
   "source": [
    "# Calculating the percentage of patients who suffer more frequently from heart disease\n",
    "counts_by_gender = heart_disease_subset3[heart_disease_subset3['Disease']].groupby('Sex').size()\n",
    "\n",
    "# Checking which gender suffers more frequently by returning index of the maximum element\n",
    "more_frequently_suffering_gender = counts_by_gender.idxmax()\n",
    "\n",
    "# Checking number of patients in more frequently suffering group\n",
    "number_patients_more_suffering = counts_by_gender.max()\n",
    "\n",
    "# Checking number of patients in less frequently suffering group\n",
    "number_patients_less_suffering = counts_by_gender.min()\n",
    "\n",
    "# Calculating a percentage difference between patients by gender\n",
    "number_patients_with_heart_disease = counts_by_gender.sum()\n",
    "\n",
    "difference_by_gender = ((number_patients_more_suffering - number_patients_less_suffering) / number_patients_with_heart_disease) * 100\n",
    "\n",
    "print(\"There is {:.2f%} more \".format(difference_by_gender) + more_frequently_suffering_gender + \" patients suffering from the heart disease in the analysed dataset.\")\n"
   ],
   "metadata": {
    "collapsed": false
   },
   "id": "1a09ed77bb0f1725",
   "execution_count": null
  },
  {
   "cell_type": "markdown",
   "source": [
    "#### Zadanie 4\n",
    "Porównaj średnią wartość cholesterolu we krwi osobno dla grupy kobiet i grupy\n",
    "mężczyzn w zależności od obecności choroby serca."
   ],
   "metadata": {
    "collapsed": false
   },
   "id": "37444fe6b805b5fd"
  },
  {
   "cell_type": "markdown",
   "source": [
    "#### Zadanie 5\n",
    "Narysuj wykres pudełkowy maksymalnej osiągniętej wartości tętna podczas testu\n",
    "wysiłkowego w zależności od obecności choroby serca. Co można zauważyć na pod-\n",
    "stawie tego wykresu?"
   ],
   "metadata": {
    "collapsed": false
   },
   "id": "f7fcc26e35de6626"
  },
  {
   "cell_type": "markdown",
   "source": [],
   "metadata": {
    "collapsed": false
   },
   "id": "22bd1bea8d9c9ef2"
  },
  {
   "cell_type": "code",
   "outputs": [],
   "source": [
    "heart_disease_subset5 = heart_disease[['Maximum heart rate achieved','Disease']]\n",
    "heart_disease_subset5.head(5)"
   ],
   "metadata": {
    "collapsed": false
   },
   "id": "fb3da3e2aa055f18",
   "execution_count": null
  },
  {
   "cell_type": "code",
   "outputs": [],
   "source": [
    "fig, ax = plt.subplots()\n",
    "\n",
    "v = plt.boxplot([\n",
    "    heart_disease_subset5.query(\"Disease == True\")[\"Maximum heart rate achieved\"],\n",
    "    heart_disease_subset5.query(\"Disease == False\")[\"Maximum heart rate achieved\"],\n",
    "],\n",
    "    showmeans=True, showfliers=False,\n",
    "    medianprops={\"color\": \"orange\", \"linewidth\": 1},\n",
    "    whiskerprops={\"color\": \"cyan\", \"linewidth\": 1},\n",
    "    capprops={\"color\": \"lightblue\", \"linewidth\": 1}\n",
    "    \n",
    ")\n",
    "\n",
    "ax.set_xticklabels(['Heart Disease Present', 'Heart Disease Not Present'])\n",
    "ax.yaxis.set_major_formatter(plt.FormatStrFormatter('%d bpm'))"
   ],
   "metadata": {
    "collapsed": false
   },
   "id": "1324971a94f614cd",
   "execution_count": null
  },
  {
   "cell_type": "markdown",
   "source": [
    "#### Zadanie 6\n",
    "Narysuj wykres słupkowy częstości występowania choroby serca w zależności od\n",
    "informacji, czy u pacjenta występuje ból dławicowy podczas testu wysiłkowego. Co można zauważyć na podstawie wykresu?"
   ],
   "metadata": {
    "collapsed": false
   },
   "id": "a776c023ac9c1c98"
  }
 ],
 "metadata": {
  "kernelspec": {
   "display_name": "Python 3",
   "language": "python",
   "name": "python3"
  },
  "language_info": {
   "codemirror_mode": {
    "name": "ipython",
    "version": 2
   },
   "file_extension": ".py",
   "mimetype": "text/x-python",
   "name": "python",
   "nbconvert_exporter": "python",
   "pygments_lexer": "ipython2",
   "version": "2.7.6"
  }
 },
 "nbformat": 4,
 "nbformat_minor": 5
}
