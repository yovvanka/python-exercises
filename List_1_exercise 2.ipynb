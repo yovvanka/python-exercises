{
 "cells": [
  {
   "cell_type": "code",
   "execution_count": 1481,
   "id": "initial_id",
   "metadata": {
    "collapsed": true,
    "ExecuteTime": {
     "end_time": "2024-04-06T17:58:16.937344Z",
     "start_time": "2024-04-06T17:58:16.935255Z"
    }
   },
   "outputs": [],
   "source": [
    "import pandas as pd\n",
    "import numpy as np\n",
    "import matplotlib.pyplot as plt"
   ]
  },
  {
   "cell_type": "markdown",
   "source": [
    "The ST segment shift relative to exercise-induced increments in heart rate, the ST/heart rate slope (ST/HR slope)\n",
    "Source: The ST segment/heart rate slope as a predictor of coronary artery disease: comparison with quantitative thallium imaging and conventional ST segment criteria https://pubmed.ncbi.nlm.nih.gov/3739881/"
   ],
   "metadata": {
    "collapsed": false
   },
   "id": "cee836aa38d87ae9"
  },
  {
   "cell_type": "markdown",
   "source": [
    "Korzystając z biblioteki pandas, wczytaj plik heart disease dataset.csv do struktury DataFrame (jest to reprezentacja tabeli)"
   ],
   "metadata": {
    "collapsed": false
   },
   "id": "679759dd8683213a"
  },
  {
   "cell_type": "code",
   "outputs": [],
   "source": [
    "# Opening heart_disease_dataset.csv using pandas library\n",
    "heart_disease = pd.read_csv(\"heart_disease_dataset.csv\")\n"
   ],
   "metadata": {
    "collapsed": false,
    "ExecuteTime": {
     "end_time": "2024-04-06T17:58:16.972017Z",
     "start_time": "2024-04-06T17:58:16.967811Z"
    }
   },
   "id": "cdb5cbfc71eb3537",
   "execution_count": 1482
  },
  {
   "cell_type": "markdown",
   "source": [
    "### Zadanie 1. \n",
    "Oblicz podstawowe statystyki opisowe (średnia, mediana, odchylenie standardowe) dla kolumn'Age','Resting blood pressure','Serum cholesterol in mg/dl', 'Maximum heart rate achieved'."
   ],
   "metadata": {
    "collapsed": false
   },
   "id": "3bd07bac47084440"
  },
  {
   "cell_type": "code",
   "outputs": [],
   "source": [
    "# Creating a subset DataFrame with Age, Resting blood pressure, Serum cholesterol in mg/dl, Maximum heart rate achieved columns\n",
    "\n",
    "heart_disease_subset = heart_disease[['Age','Resting blood pressure','Serum cholesterol in mg/dl','Maximum heart rate achieved']]"
   ],
   "metadata": {
    "collapsed": false,
    "ExecuteTime": {
     "end_time": "2024-04-06T17:58:16.978304Z",
     "start_time": "2024-04-06T17:58:16.975468Z"
    }
   },
   "id": "c0ac3ce8e9984475",
   "execution_count": 1483
  },
  {
   "cell_type": "code",
   "outputs": [
    {
     "data": {
      "text/plain": "                              mean    50%   std\nAge                           54.4   56.0   9.1\nResting blood pressure       131.6  130.0  17.5\nSerum cholesterol in mg/dl   246.0  240.0  51.6\nMaximum heart rate achieved  149.1  152.0  23.0",
      "text/html": "<div>\n<style scoped>\n    .dataframe tbody tr th:only-of-type {\n        vertical-align: middle;\n    }\n\n    .dataframe tbody tr th {\n        vertical-align: top;\n    }\n\n    .dataframe thead th {\n        text-align: right;\n    }\n</style>\n<table border=\"1\" class=\"dataframe\">\n  <thead>\n    <tr style=\"text-align: right;\">\n      <th></th>\n      <th>mean</th>\n      <th>50%</th>\n      <th>std</th>\n    </tr>\n  </thead>\n  <tbody>\n    <tr>\n      <th>Age</th>\n      <td>54.4</td>\n      <td>56.0</td>\n      <td>9.1</td>\n    </tr>\n    <tr>\n      <th>Resting blood pressure</th>\n      <td>131.6</td>\n      <td>130.0</td>\n      <td>17.5</td>\n    </tr>\n    <tr>\n      <th>Serum cholesterol in mg/dl</th>\n      <td>246.0</td>\n      <td>240.0</td>\n      <td>51.6</td>\n    </tr>\n    <tr>\n      <th>Maximum heart rate achieved</th>\n      <td>149.1</td>\n      <td>152.0</td>\n      <td>23.0</td>\n    </tr>\n  </tbody>\n</table>\n</div>"
     },
     "execution_count": 1484,
     "metadata": {},
     "output_type": "execute_result"
    }
   ],
   "source": [
    "# Calculating basic statistics using describe() function and picking mean, median (50th percentile) and standard deviation using loc property\n",
    "\n",
    "# Transposing basic_stats DataFrame for better readability using T function\n",
    "basic_stats = heart_disease_subset.describe().loc[['mean', '50%', 'std']].T\n",
    "\n",
    "# Rounding all values to .1 for better data readability\n",
    "round(basic_stats,1)\n"
   ],
   "metadata": {
    "collapsed": false,
    "ExecuteTime": {
     "end_time": "2024-04-06T17:58:16.988314Z",
     "start_time": "2024-04-06T17:58:16.980306Z"
    }
   },
   "id": "1b5629bb336617f8",
   "execution_count": 1484
  },
  {
   "cell_type": "code",
   "outputs": [],
   "source": [
    "# Custom function to calculate basic stats\n",
    "# It consumes less memory than describe() as it calculates less\n",
    "\n",
    "def calculate_basic_stats(x):\n",
    "    return pd.Series({\n",
    "        'Mean': x.mean(),\n",
    "        'Median': x.median(),\n",
    "        'Standard Deviation': x.std()\n",
    "    })"
   ],
   "metadata": {
    "collapsed": false,
    "ExecuteTime": {
     "end_time": "2024-04-06T17:58:16.992071Z",
     "start_time": "2024-04-06T17:58:16.989324Z"
    }
   },
   "id": "6006c4f6da1f4b89",
   "execution_count": 1485
  },
  {
   "cell_type": "code",
   "outputs": [
    {
     "data": {
      "text/plain": "                              Mean  Median  Standard Deviation\nAge                           54.4    56.0                 9.1\nResting blood pressure       131.6   130.0                17.5\nSerum cholesterol in mg/dl   246.0   240.0                51.6\nMaximum heart rate achieved  149.1   152.0                23.0",
      "text/html": "<div>\n<style scoped>\n    .dataframe tbody tr th:only-of-type {\n        vertical-align: middle;\n    }\n\n    .dataframe tbody tr th {\n        vertical-align: top;\n    }\n\n    .dataframe thead th {\n        text-align: right;\n    }\n</style>\n<table border=\"1\" class=\"dataframe\">\n  <thead>\n    <tr style=\"text-align: right;\">\n      <th></th>\n      <th>Mean</th>\n      <th>Median</th>\n      <th>Standard Deviation</th>\n    </tr>\n  </thead>\n  <tbody>\n    <tr>\n      <th>Age</th>\n      <td>54.4</td>\n      <td>56.0</td>\n      <td>9.1</td>\n    </tr>\n    <tr>\n      <th>Resting blood pressure</th>\n      <td>131.6</td>\n      <td>130.0</td>\n      <td>17.5</td>\n    </tr>\n    <tr>\n      <th>Serum cholesterol in mg/dl</th>\n      <td>246.0</td>\n      <td>240.0</td>\n      <td>51.6</td>\n    </tr>\n    <tr>\n      <th>Maximum heart rate achieved</th>\n      <td>149.1</td>\n      <td>152.0</td>\n      <td>23.0</td>\n    </tr>\n  </tbody>\n</table>\n</div>"
     },
     "execution_count": 1486,
     "metadata": {},
     "output_type": "execute_result"
    }
   ],
   "source": [
    "heart_disease_subset2 = heart_disease[['Age','Resting blood pressure','Serum cholesterol in mg/dl','Maximum heart rate achieved']]\n",
    "\n",
    "round(heart_disease_subset.agg(calculate_basic_stats),1).T"
   ],
   "metadata": {
    "collapsed": false,
    "ExecuteTime": {
     "end_time": "2024-04-06T17:58:16.999615Z",
     "start_time": "2024-04-06T17:58:16.993816Z"
    }
   },
   "id": "a52ea205f91c634e",
   "execution_count": 1486
  },
  {
   "cell_type": "markdown",
   "source": [
    "#### Zadanie 2. \n",
    "Jaki jest rozkład płci w zestawie danych? Przedstaw go na wykresie kołowym."
   ],
   "metadata": {
    "collapsed": false
   },
   "id": "1119560311e0c7af"
  },
  {
   "cell_type": "code",
   "outputs": [
    {
     "data": {
      "text/plain": "Sex\nmale      713\nfemale    312\nName: count, dtype: int64"
     },
     "execution_count": 1487,
     "metadata": {},
     "output_type": "execute_result"
    }
   ],
   "source": [
    "gender_distribution = heart_disease['Sex'].value_counts()\n",
    "gender_distribution"
   ],
   "metadata": {
    "collapsed": false,
    "ExecuteTime": {
     "end_time": "2024-04-06T17:58:17.003196Z",
     "start_time": "2024-04-06T17:58:17.000232Z"
    }
   },
   "id": "f87669275890333d",
   "execution_count": 1487
  },
  {
   "cell_type": "markdown",
   "source": [
    "Odpowiedź: W zestawie danych rozkład płci to 713 mężczyzn i 312 kobiet."
   ],
   "metadata": {
    "collapsed": false
   },
   "id": "1c30b26e8af5d180"
  },
  {
   "cell_type": "code",
   "outputs": [
    {
     "data": {
      "text/plain": "<Axes: ylabel='count'>"
     },
     "execution_count": 1488,
     "metadata": {},
     "output_type": "execute_result"
    },
    {
     "data": {
      "text/plain": "<Figure size 640x480 with 1 Axes>",
      "image/png": "[encoded data removed]"
     },
     "metadata": {},
     "output_type": "display_data"
    }
   ],
   "source": [
    "gender_distribution.plot(kind=\"pie\")"
   ],
   "metadata": {
    "collapsed": false,
    "ExecuteTime": {
     "end_time": "2024-04-06T17:58:17.047574Z",
     "start_time": "2024-04-06T17:58:17.004057Z"
    }
   },
   "id": "7e0c43d11896fda3",
   "execution_count": 1488
  },
  {
   "cell_type": "markdown",
   "source": [
    "#### Zadanie 3. \n",
    "Czy (w analizowanej próbie) na choroby serca choruje więcej kobiet, czy mężczyzn?\n",
    "O ile procent więcej?"
   ],
   "metadata": {
    "collapsed": false
   },
   "id": "631c70d2923bfffc"
  },
  {
   "cell_type": "code",
   "outputs": [
    {
     "data": {
      "text/plain": "         Sex  Disease\n0       male    False\n1       male    False\n2       male    False\n3       male    False\n4     female    False\n...      ...      ...\n1020    male     True\n1021    male    False\n1022    male    False\n1023  female     True\n1024    male    False\n\n[1025 rows x 2 columns]",
      "text/html": "<div>\n<style scoped>\n    .dataframe tbody tr th:only-of-type {\n        vertical-align: middle;\n    }\n\n    .dataframe tbody tr th {\n        vertical-align: top;\n    }\n\n    .dataframe thead th {\n        text-align: right;\n    }\n</style>\n<table border=\"1\" class=\"dataframe\">\n  <thead>\n    <tr style=\"text-align: right;\">\n      <th></th>\n      <th>Sex</th>\n      <th>Disease</th>\n    </tr>\n  </thead>\n  <tbody>\n    <tr>\n      <th>0</th>\n      <td>male</td>\n      <td>False</td>\n    </tr>\n    <tr>\n      <th>1</th>\n      <td>male</td>\n      <td>False</td>\n    </tr>\n    <tr>\n      <th>2</th>\n      <td>male</td>\n      <td>False</td>\n    </tr>\n    <tr>\n      <th>3</th>\n      <td>male</td>\n      <td>False</td>\n    </tr>\n    <tr>\n      <th>4</th>\n      <td>female</td>\n      <td>False</td>\n    </tr>\n    <tr>\n      <th>...</th>\n      <td>...</td>\n      <td>...</td>\n    </tr>\n    <tr>\n      <th>1020</th>\n      <td>male</td>\n      <td>True</td>\n    </tr>\n    <tr>\n      <th>1021</th>\n      <td>male</td>\n      <td>False</td>\n    </tr>\n    <tr>\n      <th>1022</th>\n      <td>male</td>\n      <td>False</td>\n    </tr>\n    <tr>\n      <th>1023</th>\n      <td>female</td>\n      <td>True</td>\n    </tr>\n    <tr>\n      <th>1024</th>\n      <td>male</td>\n      <td>False</td>\n    </tr>\n  </tbody>\n</table>\n<p>1025 rows × 2 columns</p>\n</div>"
     },
     "execution_count": 1489,
     "metadata": {},
     "output_type": "execute_result"
    }
   ],
   "source": [
    "heart_disease_subset3 = heart_disease[['Sex','Disease']]\n",
    "heart_disease_subset3"
   ],
   "metadata": {
    "collapsed": false,
    "ExecuteTime": {
     "end_time": "2024-04-06T17:58:17.056938Z",
     "start_time": "2024-04-06T17:58:17.050854Z"
    }
   },
   "id": "f9c9e0b69b2535c7",
   "execution_count": 1489
  },
  {
   "cell_type": "code",
   "outputs": [
    {
     "data": {
      "text/plain": "Sex     Disease\nfemale  True       226\n        False       86\nmale    False      413\n        True       300\nName: count, dtype: int64"
     },
     "execution_count": 1490,
     "metadata": {},
     "output_type": "execute_result"
    }
   ],
   "source": [
    "# Grouping the dataset by gender and calculating the value counts\n",
    "counts_by_gender = heart_disease_subset3.groupby('Sex').value_counts()\n",
    "counts_by_gender"
   ],
   "metadata": {
    "collapsed": false,
    "ExecuteTime": {
     "end_time": "2024-04-06T17:58:17.068395Z",
     "start_time": "2024-04-06T17:58:17.058864Z"
    }
   },
   "id": "caaababce013f77f",
   "execution_count": 1490
  },
  {
   "cell_type": "code",
   "outputs": [
    {
     "name": "stdout",
     "output_type": "stream",
     "text": [
      "Sex\n",
      "female    226\n",
      "male      300\n",
      "dtype: int64\n",
      "300\n",
      "526\n",
      "There is 57.03% more male patients suffering from the heart disease in the analysed dataset.\n"
     ]
    }
   ],
   "source": [
    "# Calculating the counts for women and men with the heart disease\n",
    "num_women_with_heart_disease = counts_by_gender.get(('female', True), 0)\n",
    "num_men_with_heart_disease = counts_by_gender.get(('male', True), 0)\n",
    "\n",
    "# Calculating the percentage of patients who suffer more frequently from heart disease\n",
    "counts_by_gender = heart_disease_subset3[heart_disease_subset3['Disease']].groupby('Sex').size()\n",
    "print(counts_by_gender)\n",
    "\n",
    "# Checking which gender suffers more frequently by returning index of the maximum element\n",
    "more_frequently_suffering_gender = counts_by_gender.idxmax()\n",
    "\n",
    "#Checking number of patients in more frequently suffering group\n",
    "number_patients_more_suffering = counts_by_gender.max()\n",
    "print(number_patients_more_suffering)\n",
    "\n",
    "# Calculating a percentage difference between patients by gender\n",
    "number_patients_with_heart_disease = counts_by_gender.sum()\n",
    "print(number_patients_with_heart_disease)\n",
    "\n",
    "difference_by_gender = (number_patients_more_suffering / number_patients_with_heart_disease) * 100\n",
    "print(\"There is {:.2f}% more \".format(difference_by_gender) + more_frequently_suffering_gender + \" patients suffering from the heart disease in the analysed dataset.\")\n"
   ],
   "metadata": {
    "collapsed": false,
    "ExecuteTime": {
     "end_time": "2024-04-06T17:58:17.078019Z",
     "start_time": "2024-04-06T17:58:17.070036Z"
    }
   },
   "id": "1a09ed77bb0f1725",
   "execution_count": 1491
  },
  {
   "cell_type": "code",
   "outputs": [],
   "source": [],
   "metadata": {
    "collapsed": false,
    "ExecuteTime": {
     "end_time": "2024-04-06T17:58:17.082107Z",
     "start_time": "2024-04-06T17:58:17.080116Z"
    }
   },
   "id": "7c1e36c395a4611b",
   "execution_count": 1491
  },
  {
   "cell_type": "markdown",
   "source": [
    "#### Zadanie 4\n",
    "Porównaj średnią wartość cholesterolu we krwi osobno dla grupy kobiet i grupy\n",
    "mężczyzn w zależności od obecności choroby serca."
   ],
   "metadata": {
    "collapsed": false
   },
   "id": "37444fe6b805b5fd"
  },
  {
   "cell_type": "markdown",
   "source": [
    "#### Zadanie 5\n",
    "Narysuj wykres pudełkowy maksymalnej osiągniętej wartości tętna podczas testu\n",
    "wysiłkowego w zależności od obecności choroby serca. Co można zauważyć na pod-\n",
    "stawie tego wykresu?"
   ],
   "metadata": {
    "collapsed": false
   },
   "id": "f7fcc26e35de6626"
  },
  {
   "cell_type": "markdown",
   "source": [],
   "metadata": {
    "collapsed": false
   },
   "id": "22bd1bea8d9c9ef2"
  },
  {
   "cell_type": "code",
   "outputs": [
    {
     "data": {
      "text/plain": "      Maximum heart rate achieved  Disease\n0                             168    False\n1                             155    False\n2                             125    False\n3                             161    False\n4                             106    False\n...                           ...      ...\n1020                          164     True\n1021                          141    False\n1022                          118    False\n1023                          159     True\n1024                          113    False\n\n[1025 rows x 2 columns]",
      "text/html": "<div>\n<style scoped>\n    .dataframe tbody tr th:only-of-type {\n        vertical-align: middle;\n    }\n\n    .dataframe tbody tr th {\n        vertical-align: top;\n    }\n\n    .dataframe thead th {\n        text-align: right;\n    }\n</style>\n<table border=\"1\" class=\"dataframe\">\n  <thead>\n    <tr style=\"text-align: right;\">\n      <th></th>\n      <th>Maximum heart rate achieved</th>\n      <th>Disease</th>\n    </tr>\n  </thead>\n  <tbody>\n    <tr>\n      <th>0</th>\n      <td>168</td>\n      <td>False</td>\n    </tr>\n    <tr>\n      <th>1</th>\n      <td>155</td>\n      <td>False</td>\n    </tr>\n    <tr>\n      <th>2</th>\n      <td>125</td>\n      <td>False</td>\n    </tr>\n    <tr>\n      <th>3</th>\n      <td>161</td>\n      <td>False</td>\n    </tr>\n    <tr>\n      <th>4</th>\n      <td>106</td>\n      <td>False</td>\n    </tr>\n    <tr>\n      <th>...</th>\n      <td>...</td>\n      <td>...</td>\n    </tr>\n    <tr>\n      <th>1020</th>\n      <td>164</td>\n      <td>True</td>\n    </tr>\n    <tr>\n      <th>1021</th>\n      <td>141</td>\n      <td>False</td>\n    </tr>\n    <tr>\n      <th>1022</th>\n      <td>118</td>\n      <td>False</td>\n    </tr>\n    <tr>\n      <th>1023</th>\n      <td>159</td>\n      <td>True</td>\n    </tr>\n    <tr>\n      <th>1024</th>\n      <td>113</td>\n      <td>False</td>\n    </tr>\n  </tbody>\n</table>\n<p>1025 rows × 2 columns</p>\n</div>"
     },
     "execution_count": 1492,
     "metadata": {},
     "output_type": "execute_result"
    }
   ],
   "source": [
    "heart_disease_subset5 = heart_disease[['Maximum heart rate achieved','Disease']]\n",
    "heart_disease_subset5"
   ],
   "metadata": {
    "collapsed": false,
    "ExecuteTime": {
     "end_time": "2024-04-06T17:58:17.090789Z",
     "start_time": "2024-04-06T17:58:17.083907Z"
    }
   },
   "id": "fb3da3e2aa055f18",
   "execution_count": 1492
  },
  {
   "cell_type": "code",
   "outputs": [],
   "source": [],
   "metadata": {
    "collapsed": false,
    "ExecuteTime": {
     "end_time": "2024-04-06T17:58:17.094308Z",
     "start_time": "2024-04-06T17:58:17.092499Z"
    }
   },
   "id": "aeb51bd1686d9a71",
   "execution_count": 1492
  }
 ],
 "metadata": {
  "kernelspec": {
   "display_name": "Python 3",
   "language": "python",
   "name": "python3"
  },
  "language_info": {
   "codemirror_mode": {
    "name": "ipython",
    "version": 2
   },
   "file_extension": ".py",
   "mimetype": "text/x-python",
   "name": "python",
   "nbconvert_exporter": "python",
   "pygments_lexer": "ipython2",
   "version": "2.7.6"
  }
 },
 "nbformat": 4,
 "nbformat_minor": 5
}
